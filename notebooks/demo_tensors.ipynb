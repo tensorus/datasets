{
 "cells": [
  {
   "cell_type": "markdown",
   "metadata": {},
   "source": [
    "# Demo Tensors\n",
    "\n",
    "This notebook demonstrates how to run `scripts/generate_tensors.py` to create\n",
    "a small dataset of NumPy tensors and how to load them."
   ]
  },
  {
   "cell_type": "code",
   "execution_count": null,
   "metadata": {},
   "outputs": [],
   "source": [
    "!python ../scripts/generate_tensors.py ../data/synthetic/demo_tensors"
   ]
  },
  {
   "cell_type": "code",
   "execution_count": null,
   "metadata": {},
   "outputs": [],
   "source": [
    "import numpy as np\n",
    "data = np.load('../data/synthetic/demo_tensors/demo_tensors.npz')\n",
    "data.files, data['tensor_a'].shape, data['tensor_b'].shape"
   ]
  }
 ],
 "metadata": {
  "kernelspec": {
   "display_name": "Python 3",
   "language": "python",
   "name": "python3"
  },
  "language_info": {
   "name": "python",
   "version": "3"
  }
 },
 "nbformat": 4,
 "nbformat_minor": 5
}
